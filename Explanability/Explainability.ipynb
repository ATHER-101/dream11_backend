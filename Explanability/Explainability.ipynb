{
 "cells": [
  {
   "cell_type": "code",
   "execution_count": 1,
   "id": "6f6a2b77-f9fb-43a6-8541-9a2743534066",
   "metadata": {},
   "outputs": [
    {
     "name": "stdout",
     "output_type": "stream",
     "text": [
      "Collecting groqNote: you may need to restart the kernel to use updated packages.\n",
      "\n",
      "  Downloading groq-0.12.0-py3-none-any.whl.metadata (13 kB)\n",
      "Requirement already satisfied: anyio<5,>=3.5.0 in c:\\users\\subha\\appdata\\local\\programs\\python\\python311\\lib\\site-packages (from groq) (4.3.0)\n",
      "Requirement already satisfied: distro<2,>=1.7.0 in c:\\users\\subha\\appdata\\local\\programs\\python\\python311\\lib\\site-packages (from groq) (1.9.0)\n",
      "Requirement already satisfied: httpx<1,>=0.23.0 in c:\\users\\subha\\appdata\\local\\programs\\python\\python311\\lib\\site-packages (from groq) (0.27.0)\n",
      "Requirement already satisfied: pydantic<3,>=1.9.0 in c:\\users\\subha\\appdata\\local\\programs\\python\\python311\\lib\\site-packages (from groq) (2.10.1)\n",
      "Requirement already satisfied: sniffio in c:\\users\\subha\\appdata\\local\\programs\\python\\python311\\lib\\site-packages (from groq) (1.3.0)\n",
      "Requirement already satisfied: typing-extensions<5,>=4.7 in c:\\users\\subha\\appdata\\local\\programs\\python\\python311\\lib\\site-packages (from groq) (4.12.2)\n",
      "Requirement already satisfied: idna>=2.8 in c:\\users\\subha\\appdata\\local\\programs\\python\\python311\\lib\\site-packages (from anyio<5,>=3.5.0->groq) (3.6)\n",
      "Requirement already satisfied: certifi in c:\\users\\subha\\appdata\\local\\programs\\python\\python311\\lib\\site-packages (from httpx<1,>=0.23.0->groq) (2024.2.2)\n",
      "Requirement already satisfied: httpcore==1.* in c:\\users\\subha\\appdata\\local\\programs\\python\\python311\\lib\\site-packages (from httpx<1,>=0.23.0->groq) (1.0.4)\n",
      "Requirement already satisfied: h11<0.15,>=0.13 in c:\\users\\subha\\appdata\\local\\programs\\python\\python311\\lib\\site-packages (from httpcore==1.*->httpx<1,>=0.23.0->groq) (0.14.0)\n",
      "Requirement already satisfied: annotated-types>=0.6.0 in c:\\users\\subha\\appdata\\local\\programs\\python\\python311\\lib\\site-packages (from pydantic<3,>=1.9.0->groq) (0.7.0)\n",
      "Requirement already satisfied: pydantic-core==2.27.1 in c:\\users\\subha\\appdata\\local\\programs\\python\\python311\\lib\\site-packages (from pydantic<3,>=1.9.0->groq) (2.27.1)\n",
      "Downloading groq-0.12.0-py3-none-any.whl (108 kB)\n",
      "Installing collected packages: groq\n",
      "Successfully installed groq-0.12.0\n"
     ]
    },
    {
     "name": "stderr",
     "output_type": "stream",
     "text": [
      "\n",
      "[notice] A new release of pip is available: 24.2 -> 24.3.1\n",
      "[notice] To update, run: python.exe -m pip install --upgrade pip\n"
     ]
    }
   ],
   "source": [
    "pip install groq"
   ]
  },
  {
   "cell_type": "code",
   "execution_count": 2,
   "id": "894c5ff6-890a-4ec5-a512-1083bb60cce0",
   "metadata": {},
   "outputs": [
    {
     "name": "stdout",
     "output_type": "stream",
     "text": [
      "Here is a concise yet elaborate paragraph summarizing the input:\n",
      "\n",
      "\"Virat Kohli is poised for a strong performance in this match, largely due to his phenomenal overall batting form. The opponent's struggles in fielding will also work in his favor, as they've been vulnerable in this aspect. Furthermore, the opponent's bowlers have been inconsistent, averaging a high number of runs conceded in their last 10 matches, which could lead to some scoring opportunities for Kohli. On the flip side, Kohli's own recent batting average over the past 20 matches has been slightly below par, which might raise some concerns. Nevertheless, considering the strengths mentioned, Kohli is likely to capitalize on the opponent's weaknesses and put up a impressive show.\"\n"
     ]
    }
   ],
   "source": [
    "import os\n",
    "from groq import Groq\n",
    "\n",
    "client = Groq(\n",
    "    api_key=\"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\",\n",
    ")\n",
    "\n",
    "chat_completion = client.chat.completions.create(\n",
    "    messages=[\n",
    "        {\n",
    "            \"role\": \"user\",\n",
    "            \"content\": (\n",
    "                \"Given the following impactful features and their corresponding explanations, \"\n",
    "                \"generate a clear, user-friendly explanation about the predicted fantasy performance of the player. \"\n",
    "                \"Use a natural and engaging tone, avoiding technical terms like SHAP values. Focus on making the \"\n",
    "                \"explanation understandable and relatable to a general audience, and ensure it highlights the key \"\n",
    "                \"factors influencing the prediction.\\n\\n\"\n",
    "                \"### Input Format:\\n\"\n",
    "                \"- Player Name: Virat Kohli\\n\"\n",
    "                \"- Role: Batsman\\n\"\n",
    "                \"- Most Impactful Features:\\n\"\n",
    "                \"  1. player_batting_overall: +0.97\\n\"\n",
    "                \"  2. opponent_fielding_overall: +1.09\\n\"\n",
    "                \"  3. opponent_bowling_avg_10: -1.07\\n\"\n",
    "                \"  4. opponent_bowling_overall: 2.05\\n\"\n",
    "                \"  5. player_batting_avg_20: -0.5\\n\"\n",
    "                \"- General Context to understand the features: \"\n",
    "                \"in the features if player1_batting_points_avg_10 denotes opponent player 1's batting points average over 10 matches, \"\n",
    "                \"sixes_ewma denotes the exponent weighted average of sixes hit by the player of all the previous matches.\\n\\n\"\n",
    "                \"### Output Example:\\n\"\n",
    "                \"'Since [Player Name]'s recent performances have been exceptional, it is likely they will continue their form in this match. \"\n",
    "                \"Additionally, the opponent's [specific weakness or factor] might give them an edge. The [additional context, e.g., conditions, team dynamics] \"\n",
    "                \"further supports the prediction of a strong performance.'\\n\\n\"\n",
    "                \"Generate a concise yet elaborate paragraph summarizing the input in a way that provides actionable insights to the user.\"\n",
    "            )\n",
    "        }\n",
    "    ],\n",
    "    model=\"llama3-70b-8192\",\n",
    ")\n",
    "\n",
    "print(chat_completion.choices[0].message.content)\n"
   ]
  }
 ],
 "metadata": {
  "kernelspec": {
   "display_name": "Python 3 (ipykernel)",
   "language": "python",
   "name": "python3"
  },
  "language_info": {
   "codemirror_mode": {
    "name": "ipython",
    "version": 3
   },
   "file_extension": ".py",
   "mimetype": "text/x-python",
   "name": "python",
   "nbconvert_exporter": "python",
   "pygments_lexer": "ipython3",
   "version": "3.11.4"
  }
 },
 "nbformat": 4,
 "nbformat_minor": 5
}
