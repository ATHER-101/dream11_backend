{
 "cells": [
  {
   "cell_type": "code",
   "execution_count": 1,
   "id": "6f6a2b77-f9fb-43a6-8541-9a2743534066",
   "metadata": {},
   "outputs": [
    {
     "name": "stdout",
     "output_type": "stream",
     "text": [
      "Collecting groq\n",
      "  Downloading groq-0.13.0-py3-none-any.whl.metadata (13 kB)\n",
      "Collecting anyio<5,>=3.5.0 (from groq)\n",
      "  Downloading anyio-4.6.2.post1-py3-none-any.whl.metadata (4.7 kB)\n",
      "Collecting distro<2,>=1.7.0 (from groq)\n",
      "  Downloading distro-1.9.0-py3-none-any.whl.metadata (6.8 kB)\n",
      "Collecting httpx<1,>=0.23.0 (from groq)\n",
      "  Downloading httpx-0.28.0-py3-none-any.whl.metadata (7.1 kB)\n",
      "Collecting pydantic<3,>=1.9.0 (from groq)\n",
      "  Downloading pydantic-2.10.2-py3-none-any.whl.metadata (170 kB)\n",
      "Collecting sniffio (from groq)\n",
      "  Downloading sniffio-1.3.1-py3-none-any.whl.metadata (3.9 kB)\n",
      "Requirement already satisfied: typing-extensions<5,>=4.7 in c:\\users\\owner\\appdata\\local\\programs\\python\\python311\\lib\\site-packages (from groq) (4.11.0)\n",
      "Requirement already satisfied: idna>=2.8 in c:\\users\\owner\\appdata\\local\\programs\\python\\python311\\lib\\site-packages (from anyio<5,>=3.5.0->groq) (3.10)\n",
      "Requirement already satisfied: certifi in c:\\users\\owner\\appdata\\local\\programs\\python\\python311\\lib\\site-packages (from httpx<1,>=0.23.0->groq) (2023.7.22)\n",
      "Collecting httpcore==1.* (from httpx<1,>=0.23.0->groq)\n",
      "  Downloading httpcore-1.0.7-py3-none-any.whl.metadata (21 kB)\n",
      "Collecting h11<0.15,>=0.13 (from httpcore==1.*->httpx<1,>=0.23.0->groq)\n",
      "  Downloading h11-0.14.0-py3-none-any.whl.metadata (8.2 kB)\n",
      "Collecting annotated-types>=0.6.0 (from pydantic<3,>=1.9.0->groq)\n",
      "  Downloading annotated_types-0.7.0-py3-none-any.whl.metadata (15 kB)\n",
      "Collecting pydantic-core==2.27.1 (from pydantic<3,>=1.9.0->groq)\n",
      "  Downloading pydantic_core-2.27.1-cp311-none-win_amd64.whl.metadata (6.7 kB)\n",
      "Collecting typing-extensions<5,>=4.7 (from groq)\n",
      "  Downloading typing_extensions-4.12.2-py3-none-any.whl.metadata (3.0 kB)\n",
      "Downloading groq-0.13.0-py3-none-any.whl (108 kB)\n",
      "Downloading anyio-4.6.2.post1-py3-none-any.whl (90 kB)\n",
      "Downloading distro-1.9.0-py3-none-any.whl (20 kB)\n",
      "Downloading httpx-0.28.0-py3-none-any.whl (73 kB)\n",
      "Downloading httpcore-1.0.7-py3-none-any.whl (78 kB)\n",
      "Downloading pydantic-2.10.2-py3-none-any.whl (456 kB)\n",
      "Downloading pydantic_core-2.27.1-cp311-none-win_amd64.whl (2.0 MB)\n",
      "   ---------------------------------------- 0.0/2.0 MB ? eta -:--:--\n",
      "   ---------------------------------------- 0.0/2.0 MB ? eta -:--:--\n",
      "   ---------- ----------------------------- 0.5/2.0 MB 2.1 MB/s eta 0:00:01\n",
      "   --------------- ------------------------ 0.8/2.0 MB 1.3 MB/s eta 0:00:01\n",
      "   --------------- ------------------------ 0.8/2.0 MB 1.3 MB/s eta 0:00:01\n",
      "   -------------------------- ------------- 1.3/2.0 MB 1.3 MB/s eta 0:00:01\n",
      "   ------------------------------------- -- 1.8/2.0 MB 1.5 MB/s eta 0:00:01\n",
      "   ---------------------------------------- 2.0/2.0 MB 1.4 MB/s eta 0:00:00\n",
      "Downloading sniffio-1.3.1-py3-none-any.whl (10 kB)\n",
      "Downloading typing_extensions-4.12.2-py3-none-any.whl (37 kB)\n",
      "Downloading annotated_types-0.7.0-py3-none-any.whl (13 kB)\n",
      "Downloading h11-0.14.0-py3-none-any.whl (58 kB)\n",
      "Installing collected packages: typing-extensions, sniffio, h11, distro, annotated-types, pydantic-core, httpcore, anyio, pydantic, httpx, groq\n",
      "  Attempting uninstall: typing-extensions\n",
      "    Found existing installation: typing_extensions 4.11.0\n",
      "    Uninstalling typing_extensions-4.11.0:\n",
      "      Successfully uninstalled typing_extensions-4.11.0\n",
      "Successfully installed annotated-types-0.7.0 anyio-4.6.2.post1 distro-1.9.0 groq-0.13.0 h11-0.14.0 httpcore-1.0.7 httpx-0.28.0 pydantic-2.10.2 pydantic-core-2.27.1 sniffio-1.3.1 typing-extensions-4.12.2\n",
      "Note: you may need to restart the kernel to use updated packages.\n"
     ]
    }
   ],
   "source": [
    "pip install groq"
   ]
  },
  {
   "cell_type": "code",
   "execution_count": 2,
   "id": "894c5ff6-890a-4ec5-a512-1083bb60cce0",
   "metadata": {},
   "outputs": [
    {
     "name": "stdout",
     "output_type": "stream",
     "text": [
      "Here's a user-friendly explanation about the predicted fantasy performance of Virat Kohli:\n",
      "\n",
      "\"Virat Kohli is expected to have a stellar outing in this match, thanks to his outstanding recent form. His impressive overall batting record, coupled with the opposing team's weaknesses in fielding, creates a favorable scenario for him to score big. Moreover, the opponent's struggling bowling unit, which has been conceding runs freely in their last 10 matches, should give Kohli an opportunity to capitalize on their vulnerabilities. Although his average performance over the last 20 matches has been slightly below par, his current form and the opponent's shortcomings are likely to overshadow this minor blip. With these factors working in his favor, Kohli is poised to deliver a strong performance, making him a top fantasy pick for this match.\"\n"
     ]
    }
   ],
   "source": [
    "import os\n",
    "from groq import Groq\n",
    "\n",
    "client = Groq(\n",
    "    api_key=\"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\",\n",
    ")\n",
    "\n",
    "chat_completion = client.chat.completions.create(\n",
    "    messages=[\n",
    "        {\n",
    "            \"role\": \"user\",\n",
    "            \"content\": (\n",
    "                \"Given the following impactful features and their corresponding explanations, \"\n",
    "                \"generate a clear, user-friendly explanation about the predicted fantasy performance of the player. \"\n",
    "                \"Use a natural and engaging tone, avoiding technical terms like SHAP values. Focus on making the explanation understandable and relatable to a general audience, and ensure it highlights the key \"\n",
    "                \"factors influencing the prediction.\\n\\n\"\n",
    "                \"### Input Format:\\n\"\n",
    "                \"- Player Name: Virat Kohli\\n\"\n",
    "                \"- Role: Batsman\\n\"\n",
    "                \"- Most Impactful Features:\\n\"\n",
    "                \"  1. player_batting_overall: +0.97\\n\"\n",
    "                \"  2. opponent_fielding_overall: +1.09\\n\"\n",
    "                \"  3. opponent_bowling_avg_10: -1.07\\n\"\n",
    "                \"  4. opponent_bowling_overall: 2.05\\n\"\n",
    "                \"  5. player_batting_avg_20: -0.5\\n\"\n",
    "                \"- General Context to understand the features: \"\n",
    "                \"in the features if player1_batting_points_avg_10 denotes opponent player 1's batting points average over 10 matches, \"\n",
    "                \"sixes_ewma denotes the exponent weighted average of sixes hit by the player of all the previous matches.\\n\\n\"\n",
    "                \"### Output Example:\\n\"\n",
    "                \"'Since [Player Name]'s recent performances have been exceptional, it is likely they will continue their form in this match. \"\n",
    "                \"Additionally, the opponent's [specific weakness or factor] might give them an edge. The [additional context, e.g., conditions, team dynamics] \"\n",
    "                \"further supports the prediction of a strong performance.'\\n\\n\"\n",
    "                \"Generate a concise yet elaborate paragraph summarizing the input in a way that provides actionable insights to the user.\"\n",
    "            )\n",
    "        }\n",
    "    ],\n",
    "    model=\"llama3-70b-8192\",\n",
    ")\n",
    "\n",
    "print(chat_completion.choices[0].message.content)\n"
   ]
  }
 ],
 "metadata": {
  "kernelspec": {
   "display_name": "Python 3",
   "language": "python",
   "name": "python3"
  },
  "language_info": {
   "codemirror_mode": {
    "name": "ipython",
    "version": 3
   },
   "file_extension": ".py",
   "mimetype": "text/x-python",
   "name": "python",
   "nbconvert_exporter": "python",
   "pygments_lexer": "ipython3",
   "version": "3.11.2"
  }
 },
 "nbformat": 4,
 "nbformat_minor": 5
}
